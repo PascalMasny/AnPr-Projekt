{
 "cells": [
  {
   "cell_type": "markdown",
   "metadata": {},
   "source": [
    "# Reguläre Ausdrücke\n",
    "## Hintergrund\n",
    "Reguläre Ausdrücke (engl. Regular Expressions) dienen dazu, Texte bzw. Textpassagen zu beschreiben, um sie analysieren zu können. Speziell unter UNIX werden Reguläre Ausdrücke gerne für Verarbeitungsskripte verwendet, da hier sehr einfach auf die Ausgaben von Batchprogrammen zugegriffen werden kann und mit Hilfe des Programms „grep“ (**g**lobal/**r**egular **e**xpression/**p**rint) die gewünschten Inhalte gesucht werden können.\n",
    "Die Anwendung von Regulären Ausdrücken auf Texte erfolgt durch entsprechende Implementierungen, welche (leider) unterschiedliche Funktionsumfänge und Dialekte hervorgebracht haben. Hierbei wird auch zwischen den grundlegenden (basic) und den erweiterten (extended) Regulären Ausdrücken unterschieden.\n",
    "\n",
    "Die drei wichtigsten Anwendungsfälle von Regulären Ausdrücken sind:\n",
    "- Prüfen von Konventionen\n",
    "- Ersetzen von Werten\n",
    "- Suchen (und ausgeben) von relevanten Textbereichen\n",
    "\n",
    "In den meisten Programmiersprachen ist das Aufteilen von Strings in ein Array ebenfalls über einen Regulären Ausdruck gelöst. Wenn wir bspw. den String `myStr = \"Mo;Di;Mi;Do;Fr\"` in ein Array zerlegen wollen, so wird dies bspw. in Python mit `split(\";\", myStr)` bzw. in Java mit `myStr.split(\";\")` erledigt. Diese Erkenntnis ist deshalb wichtig, da wir bei Regulären Ausdrücken manche Zeichen escapen müssen. Der String  `myStr = \"Mo|Di|Mi|Do|Fr\"` muss in Python bspw. mit `split(\"\\\\|\", myStr)` zerlegt werden.\n",
    "<br><br>Das hier vorliegende Dokument dient dazu, die wesentlichen Elemente von Regulären Ausdrücke zu verstehen, anzuwenden und und zu Üben. Da wir mit einem Jupyter Notebook arbeiten, nutzen wir als Regex Processor die Python Funktionalität \"re\".\n",
    "\n",
    "## Nutzung von Regulären Ausdrücken in Python\n",
    "Die Bibliothek für Reguläre Ausdrücke heißt \"re\" und wird wie folgt importiert:\n",
    "<br>`import re`\n",
    "<br>Allerdings wurde nun eine neue Bibliothek erstellt, welche einen größeren Funktionsumfang hat. Diese werden wir in diesem Tutorial nutzen. Um sie verwenden zu können, müssen wir sie allerdings zuerst über pip installieren:\n",
    "<br>`pip install regex`\n",
    "<br>Danach kann sie importiert werden:"
   ]
  },
  {
   "cell_type": "code",
   "execution_count": 138,
   "metadata": {},
   "outputs": [],
   "source": [
    "import regex\n",
    "import re"
   ]
  },
  {
   "cell_type": "markdown",
   "metadata": {},
   "source": [
    "Damit stehen die Funktionalitäten im \"regex\" - Objekt zur Verfügung. Als nächstes wollen wir die drei primären Anwendungsfälle prüfen, ersetzen und suchen anwenden. Die Details der hierbei verwendeten Regulären Ausdrücke werden wir im Nachgang klären.\n",
    "## Prüfen von Konventionen\n",
    "Hierunter versteht man, dass ein String daraufhin überprüft wird, ob er vorgegebenen Anforderungen entspricht. Sehen wir uns hierfür die beiden Strings an:\n",
    "<br>`123.143`\n",
    "<br>`123,143`\n",
    "<br>Angenommen, wir wollen den String in einen Gleitkommawert parsen, so würde der erste Wert funktionieren, der zweite jedoch einen Fehler verursachen. Führen Sie den Code mit ` myString = \"123.143\" ` und ` myString = \"123,143\" ` aus:"
   ]
  },
  {
   "cell_type": "code",
   "execution_count": 139,
   "metadata": {},
   "outputs": [
    {
     "name": "stdout",
     "output_type": "stream",
     "text": [
      "123.143\n"
     ]
    }
   ],
   "source": [
    "myString = \"123.143\"\n",
    "print(float(myString))"
   ]
  },
  {
   "cell_type": "markdown",
   "metadata": {},
   "source": [
    "Wir können nun mit Hilfe eines Regulären Ausdrucks prüfen, ob das Parsen erfolgreich sein würde. Die einfachste Möglichkeit in Python ist es, den match direkt anzuwenden. Hierbei gilt folgender Syntax:\n",
    "<br>`match(`*regex*`,`*String*`,`*flags*`)`\n",
    "<br>wobei die Flags optional sind. Der Reguläre Ausdruck für das Finden von korrekt formatierten float-Zahlen lautet: \n",
    "<br>`^\\d*\\.?\\d+$`\n",
    "<br>Da der Backslash in Python jedoch escaped werden muss, schreiben wir vor jeden Backslash einen weiteren:"
   ]
  },
  {
   "cell_type": "code",
   "execution_count": 140,
   "metadata": {},
   "outputs": [
    {
     "name": "stdout",
     "output_type": "stream",
     "text": [
      "OK\n",
      "123.143\n"
     ]
    }
   ],
   "source": [
    "if regex.match('^\\\\d*\\\\.?\\\\d+$', \"123.456\", regex.IGNORECASE):\n",
    "    print(\"OK\")\n",
    "    print(float(myString))\n",
    "else:\n",
    "    print(\"not OK\")"
   ]
  },
  {
   "cell_type": "markdown",
   "metadata": {},
   "source": [
    "## Ersetzen von Werten\n",
    "Hier suchen wir mit einem Ausdruck Textfragmente und erstetzen sie durch einen Ersatzsstring:\n",
    "<br>`regex.sub(\"`*regex*`\", \"`*Replacement*`\", \"`*suchstring*`, `*flags*`)`\n",
    "<br>wobei die Flags wieder optional sind."
   ]
  },
  {
   "cell_type": "code",
   "execution_count": 141,
   "metadata": {},
   "outputs": [
    {
     "name": "stdout",
     "output_type": "stream",
     "text": [
      "Mo_Di_Mi_Do_Fr\n"
     ]
    }
   ],
   "source": [
    "print(regex.sub(\";\", \"_\", \"Mo;Di;Mi;Do;Fr\"))"
   ]
  },
  {
   "cell_type": "markdown",
   "metadata": {},
   "source": [
    "## Suchen (und ausgeben) von relevanten Textbereichen\n",
    "Hier ist zu beachten, dass wir 0, 1 oder mehrere Matches erhalten können. Die Python Funktion hierfür lautet:\n",
    "<br>`regex.findall(`*regex*`,`*String*`,`*flags*`)`\n",
    "<br>Der Rückgabewert dieser Funktion ist ein Array mit allen Fundstellen, welches wir mit einer for-each Schleife abarbeiten können. Ein Regulärer Ausdruck zum Finden aller Wörter, die mit einem Großbuchstaben beginnen lautet:\n",
    "<br>`\\b[A-ZÄÖÜ]\\S+\\b`"
   ]
  },
  {
   "cell_type": "code",
   "execution_count": 142,
   "metadata": {},
   "outputs": [
    {
     "name": "stdout",
     "output_type": "stream",
     "text": [
      "Zwei\n",
      "Vier\n",
      "Fünf\n",
      "Sieben\n"
     ]
    }
   ],
   "source": [
    "srch = regex.findall('\\\\b[A-ZÄÖÜ]\\\\S+\\\\b', \"eins Zwei drei Vier Fünf sechs Sieben\")\n",
    "\n",
    "for element in srch:\n",
    "    print(element)"
   ]
  },
  {
   "cell_type": "markdown",
   "metadata": {},
   "source": [
    "## Syntax von Regulären Ausdrücken\n",
    "### Identifikation von Zeichen\n",
    "In den folgenden Kapiteln werden wir die Funktioalität von Regulären Ausdrücken untersuchen. Hierbei nutzen wir die Ersetzung - somit können wir exakt feststellen, welcher Teil des untersuchten Strings einen Match darstellt, da er mit dem Ersetzungszeichen belegt wurde. Der einfachste Reguläre Ausdruck ist einfach nur ein Zeichen. Sehen wir uns hierfür folgende Ersetzung an:"
   ]
  },
  {
   "cell_type": "code",
   "execution_count": 143,
   "metadata": {},
   "outputs": [
    {
     "name": "stdout",
     "output_type": "stream",
     "text": [
      "Ber+fssch+le7\n"
     ]
    }
   ],
   "source": [
    "print(regex.sub(\"u\", \"+\", \"Berufsschule7\"))"
   ]
  },
  {
   "cell_type": "markdown",
   "metadata": {},
   "source": [
    "Das Pattern ist einfach nur `u`, wodurch jede Fundstelle des Buchstaben \"u\" mit dem Replacement (in unserem Fall \"+\") ersetzt wird. Wenn das Flag `regex.IGNORECASE` gesetzt wurde, dann würde sowohl \"u\", als auch \"U\" gefunden. Wenn wir nun als Pattern `ul` setzen, so wird wieder entsprechend jede Fundstelle von \"ul\" ersetzt:"
   ]
  },
  {
   "cell_type": "code",
   "execution_count": 144,
   "metadata": {},
   "outputs": [
    {
     "name": "stdout",
     "output_type": "stream",
     "text": [
      "Berufssch+e7\n"
     ]
    }
   ],
   "source": [
    "print(regex.sub(\"ul\", \"+\", \"Berufsschule7\"))"
   ]
  },
  {
   "cell_type": "markdown",
   "metadata": {},
   "source": [
    "Wichtig ist nun, dass wir alle funktionalen Zeichen escapen müssen. Hier die wichtigsten:\n",
    "<br>`. ^ $ * + - ? ( ) [ ] { } \\ |`\n",
    "<br>Nochmal zur Erinnerung - wir das Escapezeichen in den Regulären Ausdrücken ist der Backslash `\\`. Python nutzt nun aber auch den Backslash als Escapezeichen. Dies können wir an folgenden beiden Ausgabebefehlen sehen:"
   ]
  },
  {
   "cell_type": "code",
   "execution_count": 145,
   "metadata": {},
   "outputs": [
    {
     "name": "stdout",
     "output_type": "stream",
     "text": [
      "hallo\n",
      "welt\n",
      "hallo\\nwelt\n"
     ]
    }
   ],
   "source": [
    "print(\"hallo\\nwelt\")\n",
    "print(\"hallo\\\\nwelt\")"
   ]
  },
  {
   "cell_type": "markdown",
   "metadata": {},
   "source": [
    "Wenn wir also einen Punkt zu einem Komma ersetzten wollen, dann dürfen wir nicht schreiben:\n",
    "<br>`print(regex.sub(\".\", \",\", \"Berufsschule.7\"))`\n",
    "<br>sondern:\n",
    "<br>`print(regex.sub(\"\\\\.\", \",\", \"Berufsschule.7\"))`"
   ]
  },
  {
   "cell_type": "code",
   "execution_count": 146,
   "metadata": {},
   "outputs": [
    {
     "name": "stdout",
     "output_type": "stream",
     "text": [
      ",,,,,,,,,,,,,,\n",
      "Berufsschule,7\n"
     ]
    }
   ],
   "source": [
    "print(regex.sub(\".\", \",\", \"Berufsschule.7\"))\n",
    "print(regex.sub(\"\\\\.\", \",\", \"Berufsschule.7\"))"
   ]
  },
  {
   "cell_type": "markdown",
   "metadata": {},
   "source": [
    "Überlegen Sie sich vor diesem Hintergrund, wie Sie in folgendem String die `\\` Zeichen durch `|` Zeichen ersetzen können:\n",
    "<br>`\"Mo\\Di\\Mi\\Do\\Fr\"`"
   ]
  },
  {
   "cell_type": "code",
   "execution_count": 147,
   "metadata": {},
   "outputs": [
    {
     "name": "stdout",
     "output_type": "stream",
     "text": [
      "Mo\\Di\\Mi\\Do\\Fr\n"
     ]
    }
   ],
   "source": [
    "# Ergänzen Sie den Code:\n",
    "print(regex.sub(\"\", \"\", \"Mo\\Di\\Mi\\Do\\Fr\"))"
   ]
  },
  {
   "cell_type": "markdown",
   "metadata": {},
   "source": [
    "Zeilen und Linienterminatoren sind mitunter gesondert zu behandeln. Zum einen unterscheiden sie sich bei Windows und UNIX Systemen und zum anderen gibt es hierfür eigene Sonderzeichen als \"Grenzen\" (siehe Unten).\n",
    "### Zeichengruppen\n",
    "Hierunter versteht man die Möglichkeit, mehrere Zeichen in Gruppen zusammenzufassen. Hier unterscheiden wir die eigene Gruppenbildung und die vordefinierten Gruppen. Beginnen wir mit den eigen definierten Gruppen. Hierzu dienen die eckigen Klammern `[]`. Werte, die in diesen Klammern stehen, werden als \"oder\" Gruppen gewertet. Alle Vokale (a, e, i, o, u) können also wie folgt identifiziert werden: \n",
    "<br>`[aeiou]`\n",
    "<br>Ersetzen Sie nun im String `Berufsschule7` alle Vokale durch ein `+`:"
   ]
  },
  {
   "cell_type": "code",
   "execution_count": 148,
   "metadata": {},
   "outputs": [
    {
     "name": "stdout",
     "output_type": "stream",
     "text": [
      "+B+e+r+u+f+s+s+c+h+u+l+e+7+\n"
     ]
    }
   ],
   "source": [
    "print(regex.sub(\"\", \"+\", \"Berufsschule7\"))"
   ]
  },
  {
   "cell_type": "markdown",
   "metadata": {},
   "source": [
    "Nun ist es auch möglich, die Gruppeninhalte zu invertieren. Hierzu schreiben wir nach der öffnenden Klammer `[` ein Zirkumflexzeichen `^`. Die Menge `[^aeiou]` findet also alle Zeichen, welche keine Vokale sind. Aber Achtung - hier zählen dann wirklich **alle** Zeichen dazu, nicht nur die Buchstaben! Insofern können wir hier nicht behaupten, wir würden alle *Konsonanten* ersetzen. Probieren wir es aus:"
   ]
  },
  {
   "cell_type": "code",
   "execution_count": 149,
   "metadata": {},
   "outputs": [
    {
     "name": "stdout",
     "output_type": "stream",
     "text": [
      "+B+e+r+u+f+s+s+c+h+u+l+e+7+\n"
     ]
    }
   ],
   "source": [
    "print(regex.sub(\"\", \"+\", \"Berufsschule7\"))"
   ]
  },
  {
   "cell_type": "markdown",
   "metadata": {},
   "source": [
    "In ASCII zusammenhängende Zeichen können mit einem Bindestrich zusammengefasst werden. Ersetzen Sie nun alle Buchstaben `[a-f]` mit einem `+`: "
   ]
  },
  {
   "cell_type": "code",
   "execution_count": 150,
   "metadata": {},
   "outputs": [
    {
     "name": "stdout",
     "output_type": "stream",
     "text": [
      "+B+e+r+u+f+s+s+c+h+u+l+e+7+\n"
     ]
    }
   ],
   "source": [
    "print(regex.sub(\"\", \"+\", \"Berufsschule7\"))"
   ]
  },
  {
   "cell_type": "markdown",
   "metadata": {},
   "source": [
    "Bei einzelnen Zeichen konnten wir diese beliebig aneinanderhängen (bspw. `ul`). Man spricht hier von \"concatenation\". Dies geht bei Zeichengruppen auch. Die Zeichengruppe `[aeiou]` identifizierte alle Vokale, `[a-f]` alle Buchstaben a-f. Konsequenterweise findet `[aeiou][a-f]` somit alle Vokale gefolgt von einem Buchstaben a-f. Testen wir es:"
   ]
  },
  {
   "cell_type": "code",
   "execution_count": 151,
   "metadata": {},
   "outputs": [
    {
     "name": "stdout",
     "output_type": "stream",
     "text": [
      "+B+e+r+u+f+s+s+c+h+u+l+e+7+\n"
     ]
    }
   ],
   "source": [
    "print(regex.sub(\"\", \"+\", \"Berufsschule7\"))"
   ]
  },
  {
   "cell_type": "markdown",
   "metadata": {},
   "source": [
    "Neben dem Aneinanderhängen von Elementen, gibt es noch den \"union\". Dies wird zwar am einfachsten in der Gruppe erledigt - bspw. `[aeioua-f]`, es ist jedoch auch möglich, diese beiden Gruppen `[aeiou]` und `[a-f]` explizit mit einem ODER zusammenzuhängen: `[aeiou]|[a-f]`. Ergänzen Sie den Code:"
   ]
  },
  {
   "cell_type": "code",
   "execution_count": 152,
   "metadata": {},
   "outputs": [
    {
     "name": "stdout",
     "output_type": "stream",
     "text": [
      "+B+e+r+u+f+s+s+c+h+u+l+e+7+\n"
     ]
    }
   ],
   "source": [
    "print(regex.sub(\"\", \"+\", \"Berufsschule7\"))"
   ]
  },
  {
   "cell_type": "markdown",
   "metadata": {},
   "source": [
    "Nun können wir noch Schnittmengen bilden - die \"intersections\". Hierzu wird eine äußere Gruppe gebildet, bspw. `[a-z]` und diese wird mit einer zweiten Menge \"geschnitten\" - sagen wir alle \"nicht Vokale\" `[^aeiou]`, wodurch wir alle Konsonanten erhalten. Dies würde bspw. in Java mit dem doppelten `&`, also \"Ampersand\" Zeichen durchgeführt werden:\n",
    "<br>`[a-z&&[^aeiou]]`\n",
    "<br>Die Python Implementierung geht hier allerdings einen anderen Weg. Der hierfür entsprechende Syntax wäre:\n",
    "<br>`[[a-z]--[aeiou]]`\n",
    "<br>Allerdings muss hier die Version zwingend auf `regex.VERSION1` gesetzt werden, was derzeit nur durch einen vorcompilierten Ausdruck möglich ist, weshalb wir den folgenden Weg gehen müssen:"
   ]
  },
  {
   "cell_type": "code",
   "execution_count": 153,
   "metadata": {},
   "outputs": [
    {
     "name": "stdout",
     "output_type": "stream",
     "text": [
      "Be+u+++++u+e7\n"
     ]
    }
   ],
   "source": [
    "myRegex = regex.compile(\"[[a-z]--[aeiou]]\", regex.VERSION1)\n",
    "print(myRegex.sub(\"+\", \"Berufsschule7\"))"
   ]
  },
  {
   "cell_type": "markdown",
   "metadata": {},
   "source": [
    "Nun gibt es noch die vordefinierten Zeichengruppen. Diese sind (mit Ausnahme des Punktoperators `.`) immer ein Backslash, gefolgt von einem Kleinbuchstaben. Bspw. ist `\\d` die Definition einer Ziffer, also auch mit `[0-9]` erreichbar. Der Großbuchstabe ist dann die Negation der Gruppe. `\\D` ist somit alle \"Nichtziffern\" oder alternativ `[^0.9]`. \n",
    "<br>\n",
    "<table>\n",
    "<tr><th>Zeichengruppe<th>Bedeutung<th>Ersatzausdruck\n",
    "<tr><td><b>.          <td>Jedes beliebige Zeichen<td><i>nicht sinnvoll<tr>\n",
    "<tr><td><b>\\d         <td>Eine beliebige Ziffer<td>[0-9]<tr>\n",
    "<tr><td><b>\\D         <td>Alles außer Ziffern<td>[^0-9]<tr>\n",
    "<tr><td><b>\\s         <td>Ein \"Whitespace\" Zeichen<td>[\\t\\n\\x0B\\f\\r ]<tr>\n",
    "<tr><td><b>\\S         <td>Alles außer Whitespace Zeichen<td>[^\\t\\n\\x0B\\f\\r ]<tr>\n",
    "<tr><td><b>\\w         <td>Ein beliebiges \"Wort Zeichen\" (incl. Unterstrich, mitunter ohne Umlaute)<td>[a-zA-Z_0-9]<tr>\n",
    "<tr><td><b>\\W         <td>Alles außer \"Wort Zeichen\"<td>[^a-zA-Z_0-9]<tr>\n",
    "<table>"
   ]
  },
  {
   "cell_type": "markdown",
   "metadata": {},
   "source": [
    "Vor allem der Punktoperator `.` fällt erstmal auf. Dieser wird erst mit dem nächsten Kapitel, den Quantoren sinnvoll einsetzbar. Er identifiziert alle Zeichen (mit Ausnahme des Zeilenterminierers - sprich \"Zeilenumbruch\"). In den meisten Implementierungen kann mit dem \"dotall\" Flag (in Python also `regex.DOTALL`) die Engine so eingestellt werden, dass auch der Zeilenterminierer gefunden wird. Ein weiterer wichtiger Punkt für den deutsschprachigen Raum ist, dass beim Wortzeichen `\\w` die Umlaute nicht in allen Umsetzungen mitgenommen werden. Diese müssten dann über eine eigene Gruppe hinzugefügt werden:\n",
    "<br>`[\\wäöü]`\n",
    "<br>Dies würde bspw. für Java gelten. Python hingegen findet auch die Umlaute:"
   ]
  },
  {
   "cell_type": "code",
   "execution_count": 154,
   "metadata": {},
   "outputs": [
    {
     "name": "stdout",
     "output_type": "stream",
     "text": [
      "+++ +++++++++++++ +++ +++ +++++++++ ++++\n"
     ]
    }
   ],
   "source": [
    "print(regex.sub(\"\\\\w\", \"+\", \"Die Berufsschule7 hat ein grünrotes Logo\"))"
   ]
  },
  {
   "cell_type": "markdown",
   "metadata": {},
   "source": [
    "Eine gern genutzte Möglichkeit das Umlaut Problem in den unterschiedlichen Implementierungen zu umgehen ist die Nutzung von `\\S` - also alle nicht Whitespaces. Für viele Anwendungen ist dies ausreichend. Folgender Ausdruck soll dies verdeutlichen:"
   ]
  },
  {
   "cell_type": "code",
   "execution_count": 155,
   "metadata": {},
   "outputs": [
    {
     "name": "stdout",
     "output_type": "stream",
     "text": [
      "+++ +++++++++++++ +++ +++ +++++++++ ++++\n",
      "+++ +++++++++++++ +++ +++ +++++++++ ++++\n"
     ]
    }
   ],
   "source": [
    "print(regex.sub(\"\\\\w\", \"+\", \"Die Berufsschule7 hat ein grünrotes Logo\"))\n",
    "# erstetzt die gleichen Stellen wie\n",
    "print(regex.sub(\"\\\\S\", \"+\", \"Die Berufsschule7 hat ein grünrotes Logo\"))"
   ]
  },
  {
   "cell_type": "markdown",
   "metadata": {},
   "source": [
    "Allerdings würde das Wort `grün-rot` von den beiden Ausdrücken unterschiedlich behandelt werden."
   ]
  },
  {
   "cell_type": "markdown",
   "metadata": {},
   "source": [
    "### Quantoren\n",
    "Unter Quantoren versteht man Elemente, welche die gewünschte Häufigkeit eines Auftretens spezifizieren können. So ist es bspw. möglich zu sagen, ich möchte, dass ein Element mindestens einmal vorkommt. Bei den Quantoren gibt es diverse Optionen:\n",
    "<table>\n",
    "<tr><th>Quantor:<th>Bedeutung:<tr>\n",
    "<tr><td><b>?<td>Voranstehender Ausdruck muss 0 oder einmal vorkommen.<tr>\n",
    "<tr><td><b>+<td>Voranstehender Ausdruck muss 1 oder mehrmal vorkommen.<tr>\n",
    "<tr><td><b>*<td>Voranstehender Ausdruck muss 0, 1 oder mehrmal vorkommen.<tr>\n",
    "<tr><td><b>{n}<td>Voranstehender Ausdruck muss exakt n mal vorkommen.<tr>\n",
    "<tr><td><b>{min,}<td>Voranstehender Ausdruck muss mindestens min mal vorkommen.<tr>\n",
    "<tr><td><b>{,max}<td>Voranstehender Ausdruck darf maximal max mal vorkommen.<tr>\n",
    "<tr><td><b>{min,max}<td>Voranstehender Ausdruck muss mindestens min mal und maximal max mal vorkommen.<tr> "
   ]
  },
  {
   "cell_type": "markdown",
   "metadata": {},
   "source": [
    "Wir können damit bspw. in Texten alle Klammern samt Inhalt suchen:"
   ]
  },
  {
   "cell_type": "code",
   "execution_count": 156,
   "metadata": {},
   "outputs": [
    {
     "name": "stdout",
     "output_type": "stream",
     "text": [
      "Berufsschule7 +\n"
     ]
    }
   ],
   "source": [
    "print(regex.sub(\"\\\\(.*\\\\)\", \"+\", \"Berufsschule7 (Haunstetter Straße 66)\"))"
   ]
  },
  {
   "cell_type": "markdown",
   "metadata": {},
   "source": [
    "Bei den Quantoren sind meist die Elemente `?`, `+` und `*` wichtig, da Sie im Zusammenhang mit Zeichengruppen oftmals verwendet werden. Wenn wir also in einem Text alle Zahlen (also nicht Ziffern) durch ein `+` ersetzen wollen, dann müssen wir mit `?` arbeiten. Erstellen Sie einen Ausdruck, der aus *Berufsschule7 (Haunstetter Straße 66)* den String *Berufsschule+ (Haunstetter Straße +)* macht:"
   ]
  },
  {
   "cell_type": "code",
   "execution_count": 157,
   "metadata": {},
   "outputs": [
    {
     "name": "stdout",
     "output_type": "stream",
     "text": [
      "+B+e+r+u+f+s+s+c+h+u+l+e+7+ +(+H+a+u+n+s+t+e+t+t+e+r+ +S+t+r+a+ß+e+ +6+6+)+\n"
     ]
    }
   ],
   "source": [
    "print(regex.sub(\"\", \"+\", \"Berufsschule7 (Haunstetter Straße 66)\"))"
   ]
  },
  {
   "cell_type": "markdown",
   "metadata": {},
   "source": [
    "### Gieriges vs. genügsames Verhalten\n",
    "Grundsätzlich verhalten sich die Quantoren „gierig“ (engl. greedy). Dies bedeutet, dass sämtliche möglichen zusammenhängenden Matches gefunden (und bspw. bei Ersetzung auch angewendet) werden. Folgendes Beispiel soll dies verdeutlichen:"
   ]
  },
  {
   "cell_type": "code",
   "execution_count": 158,
   "metadata": {},
   "outputs": [
    {
     "name": "stdout",
     "output_type": "stream",
     "text": [
      "Beruf+chule7\n"
     ]
    }
   ],
   "source": [
    "print(regex.sub(\"s+\", \"+\", \"Berufsschule7\"))"
   ]
  },
  {
   "cell_type": "markdown",
   "metadata": {},
   "source": [
    "Die Engine verarbeitet also den String `Berufsschule7` und findet das `s`. Theoretisch ist das schon ein gültiger Match, da wir ja \"mindestens ein\" `s` suchen. Trotzdem ist die Engine \"gierig\" und versucht den Match mit noch weiteren möglichen `s` Zeichen aufzufüllen, weshalb die beiden Buchstaben `s` als ein großer und nicht zwei kleine Matches auftreten - es wird also `ss` mit dem `+` ersetzt. Wollen wir allerdings, dass der Match geschlossen wird, sobald er die Mindestanforderungen erreicht, so müssen wir ihn mit Hilfe des `?` \"genügsam\" (oder \"reluctant\") machen. Das `?` ist aber nicht als Quantor zu verstehen! "
   ]
  },
  {
   "cell_type": "code",
   "execution_count": 159,
   "metadata": {},
   "outputs": [
    {
     "name": "stdout",
     "output_type": "stream",
     "text": [
      "Beruf++chule7\n"
     ]
    }
   ],
   "source": [
    "print(regex.sub(\"s+?\", \"+\", \"Berufsschule7\"))"
   ]
  },
  {
   "cell_type": "markdown",
   "metadata": {},
   "source": [
    "Ein mitunter \"verwirrender\" Begriff im Zusammenhang mit \"possesives\" Verhalten. Dies ist im Wesentlichen für Performanceoptimierung relevant - aber ein kleiner Exkurs ist an deser Stelle vielleicht ganz sinnvoll. Sehen wir uns hierfür folgenden Ausdruck an, den wir auf `Berufsschule7` anwenden:\n",
    "<br>`.*\\d`\n",
    "<br>Wir suchen also beliebige Zeichen, gefolgt von einer Ziffer. Mit unserem Wissen über greedy Verhalten müssten wir nun eigentlich sagen, dass wir keinen Match haben. Der erste Ausdruck `.*` findet ja eigentlich den Kompletten String `Berufsschule7`, da wir ja beliebit viele Zeichen suchen. Nach `Berufsschule7` folgt aber keine Ziffer mehr. Dies ist so aber nicht gewünscht. Also würde die Engine mit der Auswertung in der Zeichenkette von der Position nach der `7` wieder zurücklaufen auf die Position zwischen dem `e` und der `7`, was \"Backtracking\" genannt wird und Performance kostet. Wenn wir unseren Ausdruck aber wie folgt ändern:\n",
    "<br>`.*+\\d`\n",
    "<br>dann würde das Backtracking ausgeschaltet werden und wir hätten keinen Match:"
   ]
  },
  {
   "cell_type": "code",
   "execution_count": 160,
   "metadata": {},
   "outputs": [
    {
     "name": "stdout",
     "output_type": "stream",
     "text": [
      "+\n",
      "Berufsschule7\n"
     ]
    }
   ],
   "source": [
    "print(regex.sub(\".*\\\\d\", \"+\", \"Berufsschule7\"))\n",
    "print(regex.sub(\".*+\\\\d\", \"+\", \"Berufsschule7\"))"
   ]
  },
  {
   "cell_type": "markdown",
   "metadata": {},
   "source": [
    "Man nutzt das possesive Verhalten meist dann, wenn Performance eine wichtige Rolle spielt und wir von vorneherein wissen, dass wir kein Backtracking benötigen.\n",
    "### Grenzen\n",
    "Oftmals ist es notwendig, Zeichenketten anhand ihrer Position in Zeilen oder Wörtern zu identifizieren. Zum Beispiel erwirkt der Operator `\\b', dass die Zeichenkette an der Grenze eines Wortes stehen muss. Sehen wir uns hierfür die folgenden Ausdrücke an:"
   ]
  },
  {
   "cell_type": "code",
   "execution_count": 161,
   "metadata": {},
   "outputs": [
    {
     "name": "stdout",
     "output_type": "stream",
     "text": [
      "+, der Piere +fährt mehr.\n",
      "+, d+ Piere erfährt mehr.\n",
      "+, der Piere erfährt mehr.\n"
     ]
    }
   ],
   "source": [
    "print(regex.sub(\"\\\\ber\", \"+\", \"er, der Piere erfährt mehr.\"))\n",
    "print(regex.sub(\"er\\\\b\", \"+\", \"er, der Piere erfährt mehr.\"))\n",
    "print(regex.sub(\"\\\\ber\\\\b\", \"+\", \"er, der Piere erfährt mehr.\"))"
   ]
  },
  {
   "cell_type": "markdown",
   "metadata": {},
   "source": [
    "<table>\n",
    "<tr><th>Grenze:<th>Bedeutung:<tr>\n",
    "<tr><td><b>^<td>Anfang einer Zeile (Zeichen nicht mit dem Negierer verwechseln – dieser steht nicht am  Anfang)<tr>\n",
    "<tr><td><b>$<td>Ende einer Zeile <tr>\n",
    "<tr><td><b>\\b<td>Wortgrenze<tr>\n",
    "<tr><td><b>\\B<td>Nichtwortgrenze (also das Pattern darf nicht an einer Wortgrenze stehen)<tr>\n",
    "<tr><td><b>\\A<td>Anfang des untersuchten Strings<tr>\n",
    "<tr><td><b>\\G<td>Ende des vorausgegangenen Matches<tr>\n",
    "<tr><td><b>\\Z<td>Ende des untersuchten Strings, ohne dem finalen Terminator, sofern er existiert<tr>\n",
    "<tr><td><b>\\z<td>Ende des untersuchten Strings<tr>\n",
    "<table> "
   ]
  },
  {
   "cell_type": "markdown",
   "metadata": {},
   "source": [
    "Bei dem Anfang der Zeile `^` bzw. Ende der Zeile `$` Operator muss in den meisten Implementierungen das Muliline Flag gesetzt sein (`regex.MULTILINE`). \n",
    "### Capturing Groups\n",
    "Matches können in runden Klammer zusammengefasst werden und somit über Quantoren referenziert werden. Wenn wir bspw. eine Zahl, gefolgt von einem Punkt und Leerzeichen suchen, können wir folgenden Ausdruck verwenden: "
   ]
  },
  {
   "cell_type": "code",
   "execution_count": 162,
   "metadata": {},
   "outputs": [
    {
     "name": "stdout",
     "output_type": "stream",
     "text": [
      "Dies ist der ++und +Versuch.\n"
     ]
    }
   ],
   "source": [
    "print(regex.sub(\"\\\\d\\\\.\\\\s\", \"+\", \"Dies ist der 3. 4. und 5. Versuch.\"))"
   ]
  },
  {
   "cell_type": "markdown",
   "metadata": {},
   "source": [
    "Wenn wir aber nur die 3. und 4. als Gesamtes suchen und ersetzen wollen, so können wir dies entweder mit \n",
    "<br>`\\d\\.\\s\\d\\.\\s`\n",
    "<br>bewerkstelligen, oder einfacher mit\n",
    "<br>`(\\d\\.\\s){2}`\n",
    "<br>Wir fassen also den Ausdruck `\\d\\.\\s` zusammen und sagen, er soll zweimal vorkommen:"
   ]
  },
  {
   "cell_type": "code",
   "execution_count": 163,
   "metadata": {},
   "outputs": [
    {
     "name": "stdout",
     "output_type": "stream",
     "text": [
      "Dies ist der +und 5. Versuch.\n",
      "Dies ist der +und 5. Versuch.\n"
     ]
    }
   ],
   "source": [
    "print(regex.sub(\"\\\\d\\\\.\\\\s\\\\d\\\\.\\\\s\", \"+\", \"Dies ist der 3. 4. und 5. Versuch.\"))\n",
    "# findet in \"Dies ist der 3. 4. und 5. Versuch.\" das Gleiche wie\n",
    "print(regex.sub(\"(\\\\d\\\\.\\\\s){2}\", \"+\", \"Dies ist der 3. 4. und 5. Versuch.\"))"
   ]
  },
  {
   "cell_type": "markdown",
   "metadata": {},
   "source": [
    "Der hauptsächliche Vorteil ist jedoch, die gefundenen Zeichen wieder neu zu referenzieren. Sehen wir uns hierfür folgendes Beispeiel an:"
   ]
  },
  {
   "cell_type": "code",
   "execution_count": 164,
   "metadata": {},
   "outputs": [
    {
     "name": "stdout",
     "output_type": "stream",
     "text": [
      "Beruf+chule7\n"
     ]
    }
   ],
   "source": [
    "print(regex.sub(\"(.)\\\\1\", \"+\", \"Berufsschule7\"))"
   ]
  },
  {
   "cell_type": "markdown",
   "metadata": {},
   "source": [
    "Der Ausdruck `(.)` findet jedes beliebige Zeichen. Nun hängen wir aber eine weitere Bedingung hinten an - nämlich die `\\1`. Dies bedeutet, dass das Ergebnis der ersten Klammer (also das `B`, dann das `e`, das `r` usw.) nochmal danach kommen muss. Es wird also nach `BB`, `ee`, `rr` usw. gesucht. Die Zahl `\\1` bezieht sich hier auf die erste öffnende Klammer. Bspw. würde die folgende Klammerkonstruktuion:\n",
    "<br>`((A)(B(C)))`\n",
    "<br>folgende Zuordnungen erhalten:\n",
    "<br>`\\1` referenziert alles, was `((A)(B(C)))` findet.\n",
    "<br>`\\2` referenziert alles, was `(A)` findet.\n",
    "<br>`\\3` referenziert alles, was `(B(C))` findet.\n",
    "<br>`\\4` referenziert alles, was `(C)` findet.\n",
    "<br><br>**Achtung:**: Die Python Implementierung dieser Funktionalität ist für die `findall()` Funktionalität aus meiner Sicht nicht sauber! Sie liefert nur die innere Gruppe, nicht aber den gesamten Match. \n",
    "### Look around assertions\n",
    "Hierunter versteht man die Möglichkeit etwas zu finden, was vor oder nach einem Ausdruck steht. Wenn wir bspw. folgenden Ausdruck ansehen:"
   ]
  },
  {
   "cell_type": "code",
   "execution_count": 165,
   "metadata": {},
   "outputs": [
    {
     "name": "stdout",
     "output_type": "stream",
     "text": [
      "Berufsschule7 +\n"
     ]
    }
   ],
   "source": [
    "print(regex.sub(\"\\\\(.*\\\\)\", \"+\", \"Berufsschule7 (Haunstetter Straße 66)\"))"
   ]
  },
  {
   "cell_type": "markdown",
   "metadata": {},
   "source": [
    "So wird die gesamte Klammer erstetzt. Wenn unser Ziel aber folgendes ist:\n",
    "<br>`\"Berufsschule7 (+)\"`\n",
    "<br>so haben wir ein Problem. Wir suchen also den Klammerninhalt - aber ohne die Klammern. Dies können wir mit den lookahead- und lookback Assertions in den Griff bekommen. Die lookahead Assertion wird auch \"vorausschauende Prüfung\" genannt. Bei einer vorausschauenden Prüfung wird mit `(?=X)` geprüft, ob der gesuchte Ausdruck vor einem Referenzausdruck `X` steht (positive look ahead assertion). Der Ausdruck `(?!X)` negiert dies und prüft, ob der gesuchte Ausdruck nicht vor einem Referenzausdruck `X` steht."
   ]
  },
  {
   "cell_type": "code",
   "execution_count": 166,
   "metadata": {},
   "outputs": [
    {
     "name": "stdout",
     "output_type": "stream",
     "text": [
      "Ber+fsschule7\n",
      "Berufssch+le7\n"
     ]
    }
   ],
   "source": [
    "print(regex.sub(\"u(?=f)\", \"+\", \"Berufsschule7\"))\n",
    "print(regex.sub(\"u(?!f)\", \"+\", \"Berufsschule7\"))"
   ]
  },
  {
   "cell_type": "markdown",
   "metadata": {},
   "source": [
    "Lookback assertions werden auch \"zurückschauende\" Prüfung genannt. Die zurückschauende Prüfung wird mit `(?<=X)` formuliert und prüft, ob der gesuchte Ausdruck nach einem Referenzausdruck `X` steht (positive look behind assertion). Der Ausdruck `(?<!X)` negiert dies und prüft, ob der gesuchte Ausdruck nicht nach einem Referenzausdruck `X` steht:"
   ]
  },
  {
   "cell_type": "code",
   "execution_count": 167,
   "metadata": {},
   "outputs": [
    {
     "name": "stdout",
     "output_type": "stream",
     "text": [
      "Ber+fsschule7\n",
      "Berufssch+le7\n"
     ]
    }
   ],
   "source": [
    "print(regex.sub(\"(?<=r)u\", \"+\", \"Berufsschule7\"))\n",
    "print(regex.sub(\"(?<!r)u\", \"+\", \"Berufsschule7\"))"
   ]
  },
  {
   "cell_type": "markdown",
   "metadata": {},
   "source": [
    "## Aufgabenstellung\n",
    "Nun sollen Sie basierend auf einem Text üben. Hierzu kopiern Sie das File \"RegExText.txt\" auf Ihr Laufwerk, passen im folgenden Code den Pfad an und laden ihn in die Variable text_data:"
   ]
  },
  {
   "cell_type": "code",
   "execution_count": 168,
   "metadata": {},
   "outputs": [],
   "source": [
    "# Öffnen des Files\n",
    "text_file = open(\"RegExText.txt\", \"r\")\n",
    "\n",
    "# Einlesen des gesamten Files in die Variable text_data\n",
    "text_data = text_file.read()\n",
    "\n",
    "# Schließen des Files\n",
    "text_file.close() "
   ]
  },
  {
   "cell_type": "markdown",
   "metadata": {},
   "source": [
    "Nun können Sie die folgenden Aufgaben erstellen. Hierfür nutzen wir allerdings nicht die Ersetzungsfunktion, sonder wir suchen und ersetzen die gefundenen Matches (siehe ganz oben). Achten Sie heirbei auch auf die notwendigen Flags. Geben Sie also folgende Textstellen aus:\n",
    "<br><br>\n",
    "**1.: Jedes Wort, das ein „a“ bzw. „A“ enthält**"
   ]
  },
  {
   "cell_type": "code",
   "execution_count": 169,
   "metadata": {},
   "outputs": [
    {
     "name": "stdout",
     "output_type": "stream",
     "text": [
      "aus\n",
      "wikipedia\n",
      "A\n",
      "Ausdruck\n",
      "zwar\n",
      "am\n",
      "Ausdruck\n",
      "aus\n",
      "Wikipedia\n",
      "Navigation\n",
      "Informatik\n",
      "Ausdruck\n",
      "regular\n",
      "Abk\n",
      "syntaktischer\n",
      "Ausdr\n",
      "allem\n",
      "Softwareentwicklung\n",
      "fast\n",
      "alle\n",
      "Programmiersprachen\n",
      "Ausdr\n",
      "Art\n",
      "dar\n",
      "Ausdruck\n",
      "abgeglichen\n",
      "alle\n",
      "matchen\n",
      "match\n",
      "auf\n",
      "etwas\n",
      "passen\n",
      "Buchstaben\n",
      "Einsatz\n",
      "als\n",
      "man\n",
      "Ausdr\n",
      "lassen\n",
      "aus\n",
      "Ausdr\n",
      "als\n",
      "Art\n",
      "Schablone\n",
      "auch\n",
      "angeben\n",
      "Ausdruck\n",
      "angeben\n",
      "alle\n",
      "denkbaren\n",
      "Zeichenkombinationen\n",
      "Inhaltsverzeichnis\n",
      "Ausdr\n",
      "Informatik\n",
      "Grundlagen\n",
      "Syntax\n",
      "Anwendung\n",
      "Ausdr\n",
      "Ausdruck\n",
      "Zeichenliterale\n",
      "aus\n",
      "Auswahl\n",
      "Zeichenklassen\n",
      "Quantoren\n",
      "Verhalten\n",
      "Alternativen\n",
      "around\n",
      "assertions\n",
      "Ausdr\n",
      "Literatur\n",
      "auch\n",
      "Ausdr\n",
      "Informatik\n",
      "Bearbeiten\n",
      "Grundlagen\n",
      "Bearbeiten\n",
      "Abschnitt\n",
      "formalen\n",
      "Sprachen\n",
      "vorausgesetzt\n",
      "Ausdr\n",
      "Familie\n",
      "formalen\n",
      "Sprachen\n",
      "damit\n",
      "Informatik\n",
      "ausdrucksschw\n",
      "Hierarchie\n",
      "Ausdruck\n",
      "Automat\n",
      "Sprache\n",
      "akzeptiert\n",
      "Automaten\n",
      "Ausdr\n",
      "Daraus\n",
      "relativ\n",
      "einfache\n",
      "Implementierbarkeit\n",
      "Ausdr\n",
      "Ausdr\n",
      "genau\n",
      "Operationen\n",
      "Alternative\n",
      "folgenderma\n",
      "aus\n",
      "Syntax\n",
      "Bearbeiten\n",
      "Ausdruck\n",
      "das\n",
      "Ausdruck\n",
      "ai\n",
      "aus\n",
      "Alphabet\n",
      "Ausdruck\n",
      "Ausdr\n",
      "auch\n",
      "Alternative\n",
      "Ausdr\n",
      "Ausdr\n",
      "Ausdrucks\n",
      "auf\n",
      "Mathematiker\n",
      "fast\n",
      "Notation\n",
      "nannte\n",
      "Anwendung\n",
      "Ausdr\n",
      "Bearbeiten\n",
      "Notation\n",
      "bauen\n",
      "das\n",
      "Programme\n",
      "Programmiersprachen\n",
      "Ausdr\n",
      "daf\n",
      "Programme\n",
      "emacs\n",
      "Programmiersprachen\n",
      "Java\n",
      "das\n",
      "Framework\n",
      "Auch\n",
      "Textverarbeitung\n",
      "Tabellenkalkulation\n",
      "Paketes\n",
      "Ausdr\n",
      "Funktionsumfang\n",
      "Syntax\n",
      "Programmiersprachen\n",
      "haben\n",
      "Compatible\n",
      "Regular\n",
      "an\n",
      "Daneben\n",
      "Ausdr\n",
      "basic\n",
      "regular\n",
      "Ausdr\n",
      "regular\n",
      "Programme\n",
      "herzuschalten\n",
      "backreferences\n",
      "handelt\n",
      "Ausdr\n",
      "Informatik\n",
      "Ausdr\n",
      "Hierarchie\n",
      "Ausdr\n",
      "lexikalischen\n",
      "Analyse\n",
      "Syntaxhervorhebung\n",
      "lexikalischer\n",
      "Scanner\n",
      "Ausdr\n",
      "sogenannte\n",
      "Operatoren\n",
      "Da\n",
      "Programmiersprachen\n",
      "Sprachen\n",
      "handelt\n",
      "Ausdr\n",
      "Syntax\n",
      "Daher\n",
      "syntaktische\n",
      "Analyse\n",
      "separaten\n",
      "Programm\n",
      "Parser\n",
      "Ausdruck\n",
      "Bearbeiten\n",
      "Syntaxbeschreibungen\n",
      "auf\n",
      "Syntax\n",
      "also\n",
      "aus\n",
      "Informatik\n",
      "Anwendung\n",
      "Ausdr\n",
      "darin\n",
      "angegebene\n",
      "Zeichenklasse\n",
      "Quantifizierung\n",
      "Zusammenfassen\n",
      "realisieren\n",
      "Ausdruck\n",
      "aus\n",
      "Alphabets\n",
      "Kombination\n",
      "Metazeichen\n",
      "kontextabh\n",
      "Meta\n",
      "Eigenschaft\n",
      "kann\n",
      "vorangestelltes\n",
      "Backslash\n",
      "aufgehoben\n",
      "Alle\n",
      "Alphabets\n",
      "Zeichenliterale\n",
      "Bearbeiten\n",
      "literal\n",
      "auch\n",
      "nach\n",
      "auch\n",
      "das\n",
      "Oktal\n",
      "Hexadezimalcode\n",
      "hexadezimale\n",
      "anzugeben\n",
      "Bearbeiten\n",
      "dass\n",
      "an\n",
      "Platz\n",
      "fast\n",
      "kann\n",
      "Abh\n",
      "Programm\n",
      "kann\n",
      "auch\n",
      "standardm\n",
      "als\n",
      "an\n",
      "kann\n",
      "Programmen\n",
      "sogenannten\n",
      "bar\n",
      "aus\n",
      "Auswahl\n",
      "Bearbeiten\n",
      "Klammern\n",
      "Zeichenauswahl\n",
      "Ausdruck\n",
      "Klammern\n",
      "dann\n",
      "genau\n",
      "aus\n",
      "Auswahl\n",
      "Innerhalb\n",
      "Zeichenklassendefinitionen\n",
      "haben\n",
      "andere\n",
      "als\n",
      "normalen\n",
      "abh\n",
      "innerhalb\n",
      "Klammern\n",
      "auftritt\n",
      "am\n",
      "Anfang\n",
      "Zeichenklassendefinition\n",
      "dass\n",
      "Zeichenklasse\n",
      "literal\n",
      "Ebenfalls\n",
      "kontextabh\n",
      "das\n",
      "voneinander\n",
      "Klassendefinition\n",
      "a\n",
      "als\n",
      "Zeichenintervalls\n",
      "ASCII\n",
      "Tabelle\n",
      "das\n",
      "genannte\n",
      "quivalent\n",
      "abcdefg\n",
      "Am\n",
      "Anfang\n",
      "Zeichenklasse\n",
      "literal\n",
      "Zeichenauswahl\n",
      "Indikator\n",
      "A\n",
      "Za\n",
      "lateinischer\n",
      "Buchstabe\n",
      "a\n",
      "au\n",
      "a\n",
      "am\n",
      "Anfang\n",
      "Zeichenklasse\n",
      "A\n",
      "A\n",
      "A\n",
      "a\n",
      "allerdings\n",
      "Auswahl\n",
      "auch\n",
      "das\n",
      "das\n",
      "das\n",
      "Zeichenklasse\n",
      "Metafunktion\n",
      "innerhalb\n",
      "Auswahl\n",
      "vorangestelltes\n",
      "aufgehoben\n",
      "Implementationen\n",
      "innerhalb\n",
      "Klammern\n",
      "nach\n",
      "auch\n",
      "Klassen\n",
      "angegeben\n",
      "Klammern\n",
      "enthalten\n",
      "lauten\n",
      "Zeichenklassen\n",
      "alnum\n",
      "Alphanumerische\n",
      "alpha\n",
      "alpha\n",
      "Buchstaben\n",
      "blank\n",
      "Tabulator\n",
      "ASCII\n",
      "das\n",
      "graph\n",
      "Graphische\n",
      "alnum\n",
      "Kleinbuchstaben\n",
      "a\n",
      "Druckbare\n",
      "alnum\n",
      "Satzzeichen\n",
      "space\n",
      "Whitespace\n",
      "Horizontaler\n",
      "vertikaler\n",
      "Tabulator\n",
      "Wagenr\n",
      "cklauf\n",
      "buchstaben\n",
      "A\n",
      "Hexadezimale\n",
      "A\n",
      "a\n",
      "Was\n",
      "Buchstaben\n",
      "Allgemeinen\n",
      "locale\n",
      "abh\n",
      "also\n",
      "abh\n",
      "Sprache\n",
      "Zeichenklassen\n",
      "Bearbeiten\n",
      "Zeichenklassen\n",
      "allerdings\n",
      "allen\n",
      "da\n",
      "auch\n",
      "Zeichenauswahl\n",
      "Zeichenklassen\n",
      "das\n",
      "also\n",
      "Buchstabe\n",
      "also\n",
      "a\n",
      "zA\n",
      "Buchstaben\n",
      "Umlaute\n",
      "das\n",
      "Buchstabe\n",
      "Zahl\n",
      "also\n",
      "Whitespace\n",
      "das\n",
      "Klasse\n",
      "das\n",
      "Whitespace\n",
      "Quantoren\n",
      "Bearbeiten\n",
      "Quantoren\n",
      "quantifier\n",
      "auch\n",
      "Quantifizierer\n",
      "Wiederholungsfaktoren\n",
      "erlauben\n",
      "Ausdruck\n",
      "Vielfachheit\n",
      "zuzulassen\n",
      "voranstehende\n",
      "Ausdruck\n",
      "optional\n",
      "kann\n",
      "einmal\n",
      "aber\n",
      "Ausdruck\n",
      "einmal\n",
      "voranstehende\n",
      "Ausdruck\n",
      "einmal\n",
      "darf\n",
      "aber\n",
      "auch\n",
      "mehrfach\n",
      "voranstehende\n",
      "Ausdruck\n",
      "darf\n",
      "auch\n",
      "keinmal\n",
      "voranstehende\n",
      "Ausdruck\n",
      "exakt\n",
      "mal\n",
      "voranstehende\n",
      "Ausdruck\n",
      "mal\n",
      "max\n",
      "voranstehende\n",
      "Ausdruck\n",
      "darf\n",
      "maximal\n",
      "max\n",
      "mal\n",
      "max\n",
      "voranstehende\n",
      "Ausdruck\n",
      "mal\n",
      "darf\n",
      "maximal\n",
      "max\n",
      "mal\n",
      "hat\n",
      "Datum\n",
      "Quantoren\n",
      "dabei\n",
      "auf\n",
      "Ausdruck\n",
      "zwangsl\n",
      "auf\n",
      "zwar\n",
      "a\n",
      "a\n",
      "auch\n",
      "aaaa\n",
      "auch\n",
      "ab\n",
      "a\n",
      "aa\n",
      "bbaab\n",
      "a\n",
      "a\n",
      "aus\n",
      "enthalten\n",
      "dass\n",
      "das\n",
      "Anfang\n",
      "A\n",
      "ansonsten\n",
      "matcht\n",
      "auch\n",
      "Aus\n",
      "a\n",
      "matchen\n",
      "da\n",
      "mal\n",
      "das\n",
      "a\n",
      "augsburg\n",
      "matchen\n",
      "auch\n",
      "Zeilenanf\n",
      "Quantoren\n",
      "Natur\n",
      "aus\n",
      "Das\n",
      "Ausdruck\n",
      "aufgel\n",
      "Da\n",
      "Verhalten\n",
      "lassen\n",
      "Quantoren\n",
      "als\n",
      "gsam\n",
      "ckhaltend\n",
      "reluctant\n",
      "deklarieren\n",
      "Quantor\n",
      "Fragezeichen\n",
      "nachgestellt\n",
      "gsamen\n",
      "Quantoren\n",
      "aufw\n",
      "Backtracking\n",
      "weshalb\n",
      "alle\n",
      "Syntax\n",
      "Angenommen\n",
      "auf\n",
      "ABCDEB\n",
      "Ausdruck\n",
      "A\n",
      "angewendet\n",
      "ABCDEB\n",
      "Quantors\n",
      "matcht\n",
      "Ausdruck\n",
      "also\n",
      "A\n",
      "AB\n",
      "also\n",
      "nach\n",
      "ab\n",
      "quivalenter\n",
      "Ausdruck\n",
      "Quantor\n",
      "A\n",
      "Verhalten\n",
      "Bearbeiten\n",
      "Variante\n",
      "Verhaltens\n",
      "das\n",
      "Matching\n",
      "Da\n",
      "das\n",
      "Backtracking\n",
      "einmal\n",
      "Aufgrund\n",
      "Literatur\n",
      "auch\n",
      "atomic\n",
      "independant\n",
      "backtracking\n",
      "subpattern\n",
      "Syntax\n",
      "variiert\n",
      "Programmiersprachen\n",
      "Subpattern\n",
      "Ausdruck\n",
      "Daneben\n",
      "quivalenten\n",
      "Java\n",
      "Quantoren\n",
      "max\n",
      "das\n",
      "als\n",
      "eMail\n",
      "Adresse\n",
      "haben\n",
      "falsch\n",
      "gueltigemailadresse\n",
      "auch\n",
      "falsch\n",
      "ltigeemailadresse\n",
      "Angenommen\n",
      "auf\n",
      "ABCDEB\n",
      "Ausdruck\n",
      "A\n",
      "angewendet\n",
      "Matching\n",
      "fehlschlagen\n",
      "Abarbeitung\n",
      "Ausdrucks\n",
      "matchen\n",
      "also\n",
      "das\n",
      "Quantor\n",
      "aufgrund\n",
      "Backtrackings\n",
      "weshalb\n",
      "kann\n",
      "Bearbeiten\n",
      "Ausdr\n",
      "lassen\n",
      "Klammern\n",
      "zusammenfassen\n",
      "Etwa\n",
      "erlaubt\n",
      "abc\n",
      "abc\n",
      "abcabc\n",
      "ab\n",
      "Ausdruck\n",
      "back\n",
      "genannt\n",
      "dazu\n",
      "dabei\n",
      "dar\n",
      "das\n",
      "gesamten\n",
      "Ausdruck\n",
      "AA\n",
      "als\n",
      "Suchausdruck\n",
      "als\n",
      "alle\n",
      "AA\n",
      "AA\n",
      "enthaltenen\n",
      "AA\n",
      "dazwischen\n",
      "AA\n",
      "stand\n",
      "also\n",
      "AA\n",
      "Ausdr\n",
      "zulassen\n",
      "Hierarchie\n",
      "Lemma\n",
      "einfach\n",
      "dass\n",
      "Ausdruck\n",
      "nach\n",
      "Anzahl\n",
      "Sprache\n",
      "Daneben\n",
      "auch\n",
      "capturing\n",
      "Syntax\n",
      "daf\n",
      "lautet\n",
      "Dokumentationen\n",
      "darauf\n",
      "dass\n",
      "auf\n",
      "Ausf\n",
      "Platz\n",
      "lassen\n",
      "Implementationen\n",
      "Anzahl\n",
      "an\n",
      "maximal\n",
      "Ausdruck\n",
      "Zahlenfolgen\n",
      "dabei\n",
      "Zahlenfolge\n",
      "als\n",
      "erhalten\n",
      "Alternativen\n",
      "Bearbeiten\n",
      "Man\n",
      "kann\n",
      "alternative\n",
      "Ausdr\n",
      "zulassen\n",
      "ABC\n",
      "abc\n",
      "ABC\n",
      "abc\n",
      "aber\n",
      "Abc\n",
      "Bearbeiten\n",
      "auf\n",
      "Anwendungen\n",
      "auf\n",
      "genannten\n",
      "Zeilenanfang\n",
      "Zeichenauswahl\n",
      "kann\n",
      "nach\n",
      "das\n",
      "manchen\n",
      "darf\n",
      "Das\n",
      "tats\n",
      "gematcht\n",
      "gegebenenfalls\n",
      "Metabedeutung\n",
      "auf\n",
      "Ausdruck\n",
      "A\n",
      "A\n",
      "A\n",
      "A\n",
      "Auf\n",
      "auch\n",
      "nach\n",
      "am\n",
      "Wortanfang\n",
      "am\n",
      "Anfang\n",
      "das\n",
      "am\n",
      "Wortanfang\n",
      "am\n",
      "Format\n",
      "Mac\n",
      "Format\n",
      "Format\n",
      "around\n",
      "assertions\n",
      "Bearbeiten\n",
      "Ausdr\n",
      "auch\n",
      "ahead\n",
      "assertions\n",
      "etwa\n",
      "vorausschauende\n",
      "nach\n",
      "schauende\n",
      "Annahme\n",
      "Behauptung\n",
      "was\n",
      "around\n",
      "assertions\n",
      "zusammengefasst\n",
      "Ausdr\n",
      "matchen\n",
      "man\n",
      "alle\n",
      "matchen\n",
      "matchen\n",
      "ahead\n",
      "assertion\n",
      "Aufgrund\n",
      "Eigenschaft\n",
      "dass\n",
      "angegebene\n",
      "zwar\n",
      "angegeben\n",
      "Bestandteil\n",
      "gematchten\n",
      "Zusammenhang\n",
      "assertions\n",
      "das\n",
      "Attribut\n",
      "mitgenannt\n",
      "lauten\n",
      "nachdem\n",
      "negativ\n",
      "negative\n",
      "ahead\n",
      "assertions\n",
      "daher\n",
      "dass\n",
      "Parser\n",
      "nach\n",
      "abarbeiten\n",
      "Ausdruck\n",
      "ahead\n",
      "assertion\n",
      "Ausdruck\n",
      "auf\n",
      "vorgenannten\n",
      "Ausdruck\n",
      "Ausdruck\n",
      "Ausdruck\n",
      "Ausdruck\n",
      "negative\n",
      "ahead\n",
      "assertion\n",
      "Ausdruck\n",
      "darf\n",
      "auf\n",
      "vorgenannten\n",
      "Ausdruck\n",
      "Ausdruck\n",
      "Ausdruck\n",
      "Ausdruck\n",
      "assertion\n",
      "Ausdruck\n",
      "nachfolgendem\n",
      "Ausdruck\n",
      "vorausgehen\n",
      "Ausdruck\n",
      "Ausdruck\n",
      "Ausdruck\n",
      "negative\n",
      "assertion\n",
      "Ausdruck\n",
      "darf\n",
      "nachfolgendem\n",
      "Ausdruck\n",
      "vorausgehen\n",
      "Ausdruck\n",
      "Ausdruck\n",
      "arounds\n",
      "anderem\n",
      "Framework\n",
      "Auch\n",
      "auch\n",
      "anderer\n",
      "Syntax\n",
      "eMail\n",
      "Adresse\n",
      "stadt\n",
      "augsburg\n",
      "Whitespace\n",
      "Gegensatz\n",
      "gematchten\n",
      "Ausdr\n",
      "Bearbeiten\n",
      "Relativ\n",
      "Ausdr\n",
      "anderem\n",
      "Framework\n",
      "einsetzbar\n",
      "Ausdr\n",
      "Zusammenhang\n",
      "around\n",
      "assertions\n",
      "Funktionalit\n",
      "wahr\n",
      "Ausdruck\n",
      "falsch\n",
      "Ausdruck\n",
      "Ausdruck\n",
      "wahr\n",
      "Ausdruck\n",
      "Anwendung\n",
      "Suchausdruck\n",
      "kann\n",
      "falsch\n",
      "Ausdruck\n",
      "Anwendung\n",
      "Ausdruck\n",
      "aber\n",
      "Literatur\n",
      "Bearbeiten\n",
      "Ausdr\n",
      "Ausdr\n",
      "Ausdr\n",
      "Mehran\n",
      "Habibi\n",
      "Real\n",
      "Regular\n",
      "Java\n",
      "Ausdr\n",
      "nat\n",
      "Sprachen\n",
      "Lauri\n",
      "Karttunen\n",
      "State\n",
      "Language\n",
      "and\n",
      "Information\n",
      "Computational\n",
      "Ausdr\n",
      "Automatentheorie\n",
      "Jan\n",
      "Forschungsliteratur\n",
      "Representation\n",
      "and\n",
      "Automata\n",
      "Claude\n",
      "Shannon\n",
      "McCarthy\n",
      "Automata\n",
      "auch\n",
      "Bearbeiten\n",
      "Wildcard\n",
      "kompatible\n",
      "Ausdr\n",
      "Ausdruck\n",
      "Bearbeiten\n",
      "Ausdr\n",
      "auswerten\n",
      "Ausdr\n",
      "auswerten\n",
      "Sprachen\n",
      "Ausdr\n",
      "Anf\n",
      "Spezifikation\n",
      "Ausdr\n",
      "Syntax\n",
      "Ausdr\n",
      "umfangreiches\n",
      "Tutorial\n",
      "Ausdr\n",
      "Bearbeiten\n",
      "Spezifikationen\n",
      "Base\n",
      "Specifications\n",
      "Bracket\n",
      "Regular\n",
      "Lookahead\n",
      "and\n",
      "Assertions\n",
      "Regular\n",
      "Conditionals\n",
      "Regular\n"
     ]
    }
   ],
   "source": [
    "erg = regex.findall('[a-zA-Z]*[aA][a-zA-Z]*', text_data)\n",
    "\n",
    "for element in erg:\n",
    "    print(element)"
   ]
  },
  {
   "cell_type": "markdown",
   "metadata": {},
   "source": [
    "**2.: Jedes Wort, das mit einem „B“ beginnt**"
   ]
  },
  {
   "cell_type": "code",
   "execution_count": 170,
   "metadata": {},
   "outputs": [
    {
     "name": "stdout",
     "output_type": "stream",
     "text": [
      "Beschreibung\n",
      "Buchstaben\n",
      "Beispiel\n",
      "Beliebiges\n",
      "Bedingte\n",
      "Bearbeiten\n",
      "Bearbeiten\n",
      "Bearbeiten\n",
      "Begriff\n",
      "Bearbeiten\n",
      "Bibliotheken\n",
      "Beispiele\n",
      "Bibliotheken\n",
      "Beispiel\n",
      "Beispiel\n",
      "Bearbeiten\n",
      "Beschreibung\n",
      "Backslash\n",
      "Bearbeiten\n",
      "Beliebiges\n",
      "Bearbeiten\n",
      "Beispiel\n",
      "Bearbeiten\n",
      "Bedeutungen\n",
      "Bedeutung\n",
      "Beispielsweise\n",
      "Bindestrich\n",
      "Beispiel\n",
      "Beschreibung\n",
      "Beispiel\n",
      "Bindestriche\n",
      "Beispiele\n",
      "Bindestriche\n",
      "Bereich\n",
      "Buchstabe\n",
      "Beispiele\n",
      "Buchstaben\n",
      "Buchstaben\n",
      "Bearbeiten\n",
      "Buchstabe\n",
      "Buchstaben\n",
      "Buchstabe\n",
      "Bearbeiten\n",
      "Beispiel\n",
      "Beispiele\n",
      "Beispiel\n",
      "Beispiel\n",
      "Backtracking\n",
      "Beispiel\n",
      "Bearbeiten\n",
      "Backtracking\n",
      "Bezeichnungen\n",
      "Beispiel\n",
      "Bei\n",
      "Backtrackings\n",
      "Bearbeiten\n",
      "Beispiel\n",
      "BB\n",
      "BB\n",
      "BB\n",
      "BB\n",
      "BB\n",
      "BB\n",
      "Beispiel\n",
      "Bindestriche\n",
      "Bindestrich\n",
      "Bearbeiten\n",
      "Beispiel\n",
      "Bearbeiten\n",
      "Beispielsweise\n",
      "Bearbeiten\n",
      "Behauptung\n",
      "Begriff\n",
      "Bedingungen\n",
      "Beispiel\n",
      "Bestandteil\n",
      "Bezeichnungen\n",
      "Bezeichnungen\n",
      "Bezeichnung\n",
      "Beispiel\n",
      "Beispiel\n",
      "Bedingte\n",
      "Bearbeiten\n",
      "Bedingung\n",
      "Bedingung\n",
      "Beispiel\n",
      "Bearbeiten\n",
      "Beesley\n",
      "Bearbeiten\n",
      "Bearbeiten\n",
      "Bearbeiten\n",
      "Base\n",
      "Bracket\n"
     ]
    }
   ],
   "source": [
    "erg = regex.findall(r'\\b[B]\\w+\\b', text_data)\n",
    "\n",
    "for element in erg:\n",
    "    print(element)"
   ]
  },
  {
   "cell_type": "markdown",
   "metadata": {},
   "source": [
    "**3.: Jede Zeile, die das Wort „Bearbeiten“ beinhaltet**"
   ]
  },
  {
   "cell_type": "code",
   "execution_count": 171,
   "metadata": {},
   "outputs": [
    {
     "name": "stdout",
     "output_type": "stream",
     "text": [
      " Reguläre Ausdrücke in der theoretischen Informatik  [Bearbeiten]\n",
      "\n",
      " Theoretische Grundlagen  [Bearbeiten]\n",
      "\n",
      " Syntax  [Bearbeiten]\n",
      "\n",
      " Anwendung regulärer Ausdrücke  [Bearbeiten]\n",
      "\n",
      " Elemente, mit denen sich ein regulärer Ausdruck festlegen lässt  [Bearbeiten]\n",
      "\n",
      " Zeichenliterale  [Bearbeiten]\n",
      "\n",
      " Beliebiges Zeichen  [Bearbeiten]\n",
      "\n",
      " Ein Zeichen aus einer Auswahl  [Bearbeiten]\n",
      "\n",
      " Vordefinierte Zeichenklassen  [Bearbeiten]\n",
      "\n",
      " Quantoren  [Bearbeiten]\n",
      "\n",
      " Possessives Verhalten  [Bearbeiten]\n",
      "\n",
      " Gruppierungen und Rückwärtsreferenzen  [Bearbeiten]\n",
      "\n",
      " Alternativen  [Bearbeiten]\n",
      "\n",
      " Weitere Zeichen  [Bearbeiten]\n",
      "\n",
      " Look-around assertions  [Bearbeiten]\n",
      "\n",
      " Bedingte Ausdrücke  [Bearbeiten]\n",
      "\n",
      " Literatur  [Bearbeiten]\n",
      "\n",
      " Siehe auch  [Bearbeiten]\n",
      "\n",
      " Weblinks  [Bearbeiten]\n",
      "\n",
      " Referenzen  [Bearbeiten]\n",
      "\n"
     ]
    }
   ],
   "source": [
    "erg = regex.findall('.*[Bb]earbeiten.*\\\\n', text_data)\n",
    "\n",
    "for element in erg:\n",
    "    print(element)"
   ]
  },
  {
   "cell_type": "markdown",
   "metadata": {},
   "source": [
    "**4.: Jede Zeile, die eine Zahl enthält**"
   ]
  },
  {
   "cell_type": "code",
   "execution_count": 172,
   "metadata": {},
   "outputs": [
    {
     "name": "stdout",
     "output_type": "stream",
     "text": [
      "Entnommen aus: http://de.wikipedia.org/wiki/Regul%C3%A4rer_Ausdruck\n",
      "\n",
      "Und zwar am 19.02.2010\n",
      "\n",
      "1 Reguläre Ausdrücke in der theoretischen Informatik \n",
      "\n",
      "1.1 Theoretische Grundlagen \n",
      "\n",
      "1.1.1 Syntax \n",
      "\n",
      "2 Anwendung regulärer Ausdrücke \n",
      "\n",
      "3 Elemente, mit denen sich ein regulärer Ausdruck festlegen lässt \n",
      "\n",
      "3.1 Zeichenliterale \n",
      "\n",
      "3.2 Beliebiges Zeichen \n",
      "\n",
      "3.3 Ein Zeichen aus einer Auswahl \n",
      "\n",
      "3.4 Vordefinierte Zeichenklassen \n",
      "\n",
      "3.5 Quantoren \n",
      "\n",
      "3.6 Possessives Verhalten \n",
      "\n",
      "3.7 Gruppierungen und Rückwärtsreferenzen \n",
      "\n",
      "3.8 Alternativen \n",
      "\n",
      "3.9 Weitere Zeichen \n",
      "\n",
      "3.10 Look-around assertions \n",
      "\n",
      "3.11 Bedingte Ausdrücke \n",
      "\n",
      "4 Literatur \n",
      "\n",
      "5 Siehe auch \n",
      "\n",
      "6 Weblinks \n",
      "\n",
      "7 Referenzen \n",
      "\n",
      "Reguläre Ausdrücke beschreiben eine Familie von formalen Sprachen und gehören damit zur theoretischen Informatik. Hier bilden sie die unterste und somit ausdrucksschwächste Stufe der Chomsky-Hierarchie (Typ-3). Zu jedem regulären Ausdruck existiert ein endlicher Automat, der dieselbe Sprache akzeptiert, und umgekehrt. Diese endlichen Automaten können mithilfe der regulären Ausdrücke konstruiert werden. Daraus folgt die relativ einfache Implementierbarkeit regulärer Ausdrücke.\n",
      "\n",
      "Der Begriff des regulären Ausdrucks geht im Wesentlichen auf den Mathematiker Stephen Kleene zurück. Dieser benutzte eine fast identische Notation, die er reguläre Mengen nannte.[1]\n",
      "\n",
      "Ken Thompson nutzte diese Notation in den 1960ern, um qed (eine Vorgängerversion des Unix-Editors ed) zu bauen und später das Werkzeug grep zu schreiben. Seither implementieren sehr viele Programme und Bibliotheken von Programmiersprachen Funktionen, um reguläre Ausdrücke zum Suchen und Ersetzen von Zeichenketten zu nutzen. Beispiele dafür sind die Programme sed, grep, emacs und Bibliotheken der Programmiersprachen Perl, C, Java, Python, Ruby und das .NET-Framework. Auch die Textverarbeitung und die Tabellenkalkulation des Office-Paketes OpenOffice.org bieten die Möglichkeit, mit regulären Ausdrücken im Text zu suchen.\n",
      "\n",
      "Zwischen verschiedenen Regexp-Implementierungen gibt es Unterschiede in Funktionsumfang und Syntax. In Programmiersprachen haben sich überwiegend die Perl Compatible Regular Expressions (PCRE) durchgesetzt, die sich an der Umsetzung in Perl orientieren. Daneben wird bei POSIX.2 zwischen „grundlegenden“ regulären Ausdrücken (basic regular expressions) und „erweiterten“ regulären Ausdrücken (extended regular expressions) unterschieden.\n",
      "\n",
      "Die meisten heutigen Implementierungen unterstützen Erweiterungen wie zum Beispiel Rückwärtsreferenzen (backreferences). Hierbei handelt es sich nicht mehr um reguläre Ausdrücke im Sinne der theoretischen Informatik, denn die so erweiterten Ausdrücke gehören nicht mehr notwendigerweise zum Typ 3 der Chomsky-Hierarchie.\n",
      "\n",
      "[0-6] eine Ziffer von „0“ bis „6“ (Bindestriche sind Indikator für einen Bereich) \n",
      "\n",
      "[A-Za-z0-9] ein beliebiger lateinischer Buchstabe oder eine beliebige Ziffer \n",
      "\n",
      "[-A-Z], [A-Z-] (bzw. [A-Z\\-a-z], allerdings nicht gemäß POSIX[2]) Auswahl enthält auch das Zeichen „-“, wenn es das erste oder das letzte Zeichen einer Zeichenklasse ist bzw. bei PCRE, wenn seine Metafunktion innerhalb einer Auswahl durch ein vorangestelltes „\\“-Zeichen aufgehoben wird \n",
      "\n",
      "[:cntrl:] Steuerzeichen. Im ASCII sind das die Zeichen 00 bis 1F, und 7F (DEL). \n",
      "\n",
      "[:digit:] Die Ziffern 0 bis 9. \n",
      "\n",
      "[:lower:] Kleinbuchstaben1: nicht notwendigerweise nur von a bis z. \n",
      "\n",
      "[:upper:] Großbuchstaben1: nicht notwendigerweise nur von A bis Z. \n",
      "\n",
      "[:xdigit:] Hexadezimale Ziffern: 0 bis 9, A bis F, a bis f. \n",
      "\n",
      "1Was Buchstaben sind, ist im Allgemeinen locale-abhängig, also abhängig von der eingestellten Region und Sprache.[3]\n",
      "\n",
      "\\d eine Ziffer [0-9] \n",
      "\n",
      "\\w ein Buchstabe, eine Ziffer oder der Unterstrich, also [a-zA-Z_0-9] (und evtl. weitere Buchstaben, z. B. Umlaute) \n",
      "\n",
      "? Der voranstehende Ausdruck ist optional, er kann einmal vorkommen, muss es aber nicht, d. h. der Ausdruck kommt null- oder einmal vor. (Dies entspricht {0,1}) \n",
      "\n",
      "+ Der voranstehende Ausdruck muss mindestens einmal vorkommen, darf aber auch mehrfach vorkommen. (Dies entspricht {1,}) \n",
      "\n",
      "* Der voranstehende Ausdruck darf beliebig oft (auch keinmal) vorkommen. (Dies entspricht {0,}) \n",
      "\n",
      "Hier hat sich kein Datum versteckt 99.99.9999\n",
      "\n",
      "Die Quantoren beziehen sich dabei auf den vorhergehenden regulären Ausdruck, jedoch nicht zwangsläufig auf die durch ihn gefundene Übereinstimmung. So wird zwar zum Beispiel durch a+ ein „a“ oder auch „aaaa“ vertreten, jedoch entspricht [0-9]+ nicht nur sich wiederholenden gleichen Ziffern, sondern auch Folgen gemischter Ziffern, beispielsweise „072345“.\n",
      "\n",
      "„[0-9]{2,5}“ entspricht zwei, drei, vier oder fünf Ziffern in Folge, z. B. „42“, „54072“, jedoch nicht die Zeichenfolgen „0“, „1.1“ oder „a1a1“. \n",
      "\n",
      "Soll eine Zeichenkette nur aus dem gesuchten Muster bestehen (und es nicht nur enthalten), so muss in den meisten Implementierungen explizit definiert werden, dass das Muster von Anfang (\\A oder ^)1 bis zum Ende der Zeichenkette (\\Z, \\z oder $)1 reichen soll, ansonsten matcht zum Beispiel [0-9]{2,5} auch bei der Zeichenkette „1234507“ die Teilzeichenkette „12345“. Aus dem gleichen Grund würde bspw. a* immer matchen, da jeder String, selbst der leere „“, mind. 0-mal das Zeichen „a“ enthält.\n",
      "\n",
      "Hier wurde ein Weblink versteckt: http://www.bs7-augsburg.de\n",
      "\n",
      "1Die Zeichen ^ und $ matchen im multiline-Modus (d. i. wenn der m-Modifier gesetzt wird) auch Zeilenanfänge und -enden.\n",
      "\n",
      "Eine Variante des oben beschriebenen gierigen Verhaltens ist das possessive Matching. Da hierbei jedoch das Backtracking verhindert wird, werden einmal übereinstimmende Zeichen nicht wieder freigegeben. Aufgrund dessen finden sich in der Literatur auch die synonymen Bezeichnungen atomic grouping, independant subexpression oder non-backtracking subpattern. Die Syntax für diese Konstrukte variiert bei den verschiedenen Programmiersprachen. Ursprünglich wurden solche Subpattern in Perl durch (?>Ausdruck) formuliert. Daneben existieren seit Perl 5.10 die äquivalenten, in Java bereits üblichen possessiven Quantoren ++, *+, ?+ und {min,max}+.\n",
      "\n",
      "Einige Implementierungen speichern die gefundenen Übereinstimmungen von Gruppierungen ab und ermöglichen deren Wiederverwendung im regulären Ausdruck oder bei der Textersetzung. Diese werden Rückwärtsreferenzen (engl. back references) genannt. Häufig wird dazu die Schreibweise \\n oder $n verwendet, wobei n die Übereinstimmung der n-ten Gruppierung entspricht. Eine Sonderstellung stellt dabei n=0 dar, das meist für die Übereinstimmung des gesamten regulären Ausdruck steht.\n",
      "\n",
      "Ein Suchen und Ersetzen mit AA(.*?)BB als regulären Suchausdruck und \\1 als Ersetzung ersetzt alle Zeichenketten, die von AA und BB eingeschlossen sind, durch den zwischen AA und BB enthaltenen Text. D. h. AA und BB und der Text dazwischen werden ersetzt durch den Text, der ursprünglich zwischen AA und BB stand, also fehlen AA und BB im Ergebnis. \n",
      "\n",
      "Interpreter von regulären Ausdrücken, die Rückwärtsreferenzen zulassen, entsprechen nicht mehr dem Typ 3 der Chomsky-Hierarchie. Mit dem Pumping-Lemma lässt sich einfach zeigen, dass ein regulärer Ausdruck, der feststellt, ob in einer Zeichenkette vor und nach der 1 die gleiche Anzahl von 0 steht, keine reguläre Sprache ist.\n",
      "\n",
      "Daneben gibt es auch noch Gruppierungen, die keine Rückwärtsreferenz erzeugen (engl. non-capturing). Die Syntax dafür lautet in den meisten Implementierungen (?:…). Regexp-Dokumentationen weisen darauf hin, dass die Erzeugung von Rückwärtsreferenzen stets vermieden werden soll, wenn kein späterer Zugriff auf sie erfolge. Denn die Erzeugung der Referenzen kostet Ausführungszeit und belegt Platz zur Speicherung der gefundenen Übereinstimmung. Zudem lassen die Implementationen nur eine begrenzte Anzahl an Rückwärtsreferenzen zu (häufig nur maximal 9).\n",
      "\n",
      "Perl Version 5 führte zusätzlich zu den üblichen regulären Ausdrücken auch look-ahead und look-behind assertions (etwa „vorausschauende“ bzw. „nach hinten schauende“ Annahme/Behauptung) ein, was unter dem Begriff look-around assertions zusammengefasst wird.[4] Diese Konstrukte erweitern die regulären Ausdrücke um die Möglichkeit, kontextsensitive Bedingungen zu formulieren, ohne den Kontext selbst zu matchen. D. h., möchte man alle Zeichenfolgen „Sport“, denen die Zeichenfolge „verein“ folgt, matchen, ohne die Zeichenfolge „verein“ selbst zu matchen, wäre dies mit einer look-ahead assertion möglich: Sport(?=verein). Aufgrund der Eigenschaft, dass der angegebene Kontext (im Beispiel „verein“) zwar angegeben wird, jedoch kein expliziter Bestandteil des gematchten Strings (hier „Sport“) ist, wird im Zusammenhang mit den assertions meist das Attribut zero-width mitgenannt. Die vollständigen Bezeichnungen lauten somit, je nachdem ob ein bestimmter Kontext gefordert (positiv) oder verboten (negativ) ist, zero-width positive/negative look-ahead/behind assertions. Die Bezeichnungen der Richtungen rühren daher, dass Regexp-Parser einen String immer von links nach rechts abarbeiten.\n",
      "\n",
      "und hier noch eine versteckte eMail Adresse: bs7.stadt@augsburg.de\n",
      "\n",
      "Relativ wenig verbreitet sind bedingte Ausdrücke. Diese sind unter anderem in Perl, PCRE und dem .NET-Framework einsetzbar. Python bietet für solche Ausdrücke in Zusammenhang mit look-around assertions nur eingeschränkte Funktionalität.[5]\n",
      "\n",
      "Mit dem Ausdruck „(\\()?\\d+(?(1)\\))“ werden Zeichenfolgen wie „1“, „(2)“, „34“ oder „(567)“, aber nicht „3)“ gefunden. \n",
      "\n",
      "Jeffrey Friedl: Reguläre Ausdrücke. O’Reilly, ISBN 3-89721-720-1. \n",
      "\n",
      "Tony Stubblebine: Reguläre Ausdrücke – kurz und gut. O’Reilly, ISBN 3-89721-264-1. \n",
      "\n",
      "Mehran Habibi: Real World Regular Expressions with Java 1.4. Springer, ISBN 1-59059-107-0. \n",
      "\n",
      "Kenneth R. Beesley, Lauri Karttunen: Finite-State Morphology. Distributed for the Center for the Study of Language and Information. 2003, 696 p. (est.). 2003 Series: (CSLI-SCL) Studies in Computational Linguistics. \n",
      "\n",
      "Jan Lunze: Ereignisdiskrete Systeme. Oldenbourg, 2006, ISBN 3-486-58071-X, Seiten 160–192. \n",
      "\n",
      "Stephen C. Kleene: Representation of Events in Nerve Nets and Finite Automata. In: Claude E. Shannon, John McCarthy (Hrsg.): Automata Studies. Princeton University Press, 1956, S. 3–42. \n",
      "\n",
      "? Kleene (1956) \n",
      "\n",
      "? The Open Group Base Specifications, RE Bracket Expression, IEEE Std 1003.1, 2004 \n",
      "\n"
     ]
    }
   ],
   "source": [
    "erg = regex.findall('.*\\\\d.*\\\\n', text_data)\n",
    "\n",
    "for element in erg:\n",
    "    print(element)"
   ]
  },
  {
   "cell_type": "markdown",
   "metadata": {},
   "source": [
    "**5.: Sofern vorhanden, eine eMail Adresse**"
   ]
  },
  {
   "cell_type": "code",
   "execution_count": 173,
   "metadata": {},
   "outputs": [
    {
     "name": "stdout",
     "output_type": "stream",
     "text": [
      "bs7.stadt@augsburg.de\n"
     ]
    }
   ],
   "source": [
    "\n",
    "#import re\n",
    "\n",
    "#regex = re.compile(r'([A-Za-z0-9]+[.-_])*[A-Za-z0-9]+@[A-Za-z0-9-]+(\\.[A-Z|a-z]{2,})+')\n",
    "\n",
    "#def isValid(email):\n",
    "#    if re.fullmatch(regex, email):\n",
    "#      return \"Valid email\"\n",
    "#    else:\n",
    "#      return \"Invalid email\"\n",
    "#      \n",
    "#for n in text_data:\n",
    "#    if isValid(n) == \"Valid email\":\n",
    "#        print(n) \n",
    "  \n",
    "erg = regex.findall('\\\\b\\\\S+@\\\\S+\\.\\\\S{2,4}\\\\b', text_data)\n",
    "\n",
    "for element in erg:\n",
    "    print(element)      \n",
    "\n"
   ]
  },
  {
   "cell_type": "markdown",
   "metadata": {},
   "source": [
    "**6.: Sofern vorhanden, einen Weblink**"
   ]
  },
  {
   "cell_type": "code",
   "execution_count": 174,
   "metadata": {},
   "outputs": [
    {
     "name": "stdout",
     "output_type": "stream",
     "text": [
      "http://de.wikipedia.org/wiki/Regul%C3%A4rer_Ausdruck\n",
      "http://www.bs7-augsburg.de\n"
     ]
    }
   ],
   "source": [
    "def is_valid_url(url):\n",
    "    import re\n",
    "    regex = re.compile(\n",
    "        r'^https?://'\n",
    "        r'(?:(?:[A-Z0-9](?:[A-Z0-9-]{0,61}[A-Z0-9])?\\.)+[A-Z]{2,6}\\.?|'\n",
    "        r'localhost|'\n",
    "        r'\\d{1,3}\\.\\d{1,3}\\.\\d{1,3}\\.\\d{1,3})'\n",
    "        r'(?::\\d+)?'\n",
    "        r'(?:/?|[/?]\\S+)$', re.IGNORECASE)\n",
    "    return url is not None and regex.search(url)\n",
    "\n",
    "for n in text_data:\n",
    "    print(is_valid_url(n))\n",
    "    \n",
    "erg = regex.findall('\\\\bhttps?://[a-zA-Z0-9./%_-]+\\\\b', text_data)\n",
    "\n",
    "for element in erg:\n",
    "    print(element)  \n"
   ]
  },
  {
   "cell_type": "markdown",
   "metadata": {},
   "source": [
    "**7.: Worte, die zwischen „Online“ und „Auswerten“ stehen**"
   ]
  },
  {
   "cell_type": "code",
   "execution_count": 175,
   "metadata": {},
   "outputs": [
    {
     "ename": "TypeError",
     "evalue": "expected string or buffer",
     "output_type": "error",
     "traceback": [
      "\u001b[0;31m---------------------------------------------------------------------------\u001b[0m",
      "\u001b[0;31mTypeError\u001b[0m                                 Traceback (most recent call last)",
      "\u001b[0;32m/tmp/ipykernel_7312/3458504088.py\u001b[0m in \u001b[0;36m<module>\u001b[0;34m\u001b[0m\n\u001b[1;32m      2\u001b[0m \u001b[0;34m\u001b[0m\u001b[0m\n\u001b[1;32m      3\u001b[0m \u001b[0;32mfor\u001b[0m \u001b[0melement\u001b[0m \u001b[0;32min\u001b[0m \u001b[0merg\u001b[0m\u001b[0;34m:\u001b[0m\u001b[0;34m\u001b[0m\u001b[0;34m\u001b[0m\u001b[0m\n\u001b[0;32m----> 4\u001b[0;31m     \u001b[0merg2\u001b[0m \u001b[0;34m=\u001b[0m \u001b[0mregex\u001b[0m\u001b[0;34m.\u001b[0m\u001b[0msub\u001b[0m\u001b[0;34m(\u001b[0m\u001b[0;34m'[oO]nline'\u001b[0m\u001b[0;34m,\u001b[0m \u001b[0;34m''\u001b[0m\u001b[0;34m,\u001b[0m \u001b[0merg\u001b[0m\u001b[0;34m)\u001b[0m\u001b[0;34m\u001b[0m\u001b[0;34m\u001b[0m\u001b[0m\n\u001b[0m\u001b[1;32m      5\u001b[0m     \u001b[0merg3\u001b[0m \u001b[0;34m=\u001b[0m \u001b[0mregex\u001b[0m\u001b[0;34m.\u001b[0m\u001b[0msub\u001b[0m\u001b[0;34m(\u001b[0m\u001b[0;34m'[Aa]userten'\u001b[0m\u001b[0;34m,\u001b[0m \u001b[0;34m''\u001b[0m\u001b[0;34m,\u001b[0m \u001b[0merg2\u001b[0m\u001b[0;34m)\u001b[0m\u001b[0;34m\u001b[0m\u001b[0;34m\u001b[0m\u001b[0m\n\u001b[1;32m      6\u001b[0m \u001b[0;34m\u001b[0m\u001b[0m\n",
      "\u001b[0;32m~/.local/lib/python3.10/site-packages/regex/regex.py\u001b[0m in \u001b[0;36msub\u001b[0;34m(pattern, repl, string, count, flags, pos, endpos, concurrent, timeout, ignore_unused, **kwargs)\u001b[0m\n\u001b[1;32m    276\u001b[0m     object and must return a replacement string to be used.\"\"\"\n\u001b[1;32m    277\u001b[0m     \u001b[0mpat\u001b[0m \u001b[0;34m=\u001b[0m \u001b[0m_compile\u001b[0m\u001b[0;34m(\u001b[0m\u001b[0mpattern\u001b[0m\u001b[0;34m,\u001b[0m \u001b[0mflags\u001b[0m\u001b[0;34m,\u001b[0m \u001b[0mignore_unused\u001b[0m\u001b[0;34m,\u001b[0m \u001b[0mkwargs\u001b[0m\u001b[0;34m,\u001b[0m \u001b[0;32mTrue\u001b[0m\u001b[0;34m)\u001b[0m\u001b[0;34m\u001b[0m\u001b[0;34m\u001b[0m\u001b[0m\n\u001b[0;32m--> 278\u001b[0;31m     \u001b[0;32mreturn\u001b[0m \u001b[0mpat\u001b[0m\u001b[0;34m.\u001b[0m\u001b[0msub\u001b[0m\u001b[0;34m(\u001b[0m\u001b[0mrepl\u001b[0m\u001b[0;34m,\u001b[0m \u001b[0mstring\u001b[0m\u001b[0;34m,\u001b[0m \u001b[0mcount\u001b[0m\u001b[0;34m,\u001b[0m \u001b[0mpos\u001b[0m\u001b[0;34m,\u001b[0m \u001b[0mendpos\u001b[0m\u001b[0;34m,\u001b[0m \u001b[0mconcurrent\u001b[0m\u001b[0;34m,\u001b[0m \u001b[0mtimeout\u001b[0m\u001b[0;34m)\u001b[0m\u001b[0;34m\u001b[0m\u001b[0;34m\u001b[0m\u001b[0m\n\u001b[0m\u001b[1;32m    279\u001b[0m \u001b[0;34m\u001b[0m\u001b[0m\n\u001b[1;32m    280\u001b[0m def subf(pattern, format, string, count=0, flags=0, pos=None, endpos=None,\n",
      "\u001b[0;31mTypeError\u001b[0m: expected string or buffer"
     ]
    }
   ],
   "source": [
    "erg = regex.findall('\\\\b[oO]nline.*[Aa]uswerten\\\\b', text_data)\n",
    "\n",
    "for element in erg:\n",
    "    erg2 = regex.sub('[oO]nline', '', erg)\n",
    "    erg3 = regex.sub('[Aa]userten', '', erg2)\n",
    "    \n",
    "    print(erg3)  "
   ]
  },
  {
   "cell_type": "markdown",
   "metadata": {},
   "source": [
    "**8.: Jede Zeile, die ein Datum mit Formatierung (dd.mm.yyyy) enthält**\n",
    "<br>Hier müssen nur die im Textfile ungültigen Datumsformate entfernt werden - es ist keine vollständige Datumsvalidierung in Regex möglich."
   ]
  },
  {
   "cell_type": "code",
   "execution_count": null,
   "metadata": {},
   "outputs": [
    {
     "name": "stdout",
     "output_type": "stream",
     "text": [
      "19.02.2010\n"
     ]
    }
   ],
   "source": [
    "erg = regex.findall('\\\\b[0-3][0-9].[0-1][0-9].[0-9][0-9][0-9][0-9]', text_data)\n",
    "\n",
    "for element in erg:\n",
    "    print(element)  "
   ]
  },
  {
   "cell_type": "markdown",
   "metadata": {},
   "source": [
    "**9.: Worte mit mindestens drei Buchstaben, aber ohne Vokale**"
   ]
  },
  {
   "cell_type": "code",
   "execution_count": 179,
   "metadata": {},
   "outputs": [
    {
     "name": "stdout",
     "output_type": "stream",
     "text": [
      "http\n",
      "Typ\n",
      "Typ\n",
      "bzw\n",
      "xhh\n",
      "bzgl\n",
      "bzw\n",
      "bzw\n",
      "cntrl\n",
      "bspw\n",
      "http\n",
      "www\n",
      "Typ\n",
      "bzw\n",
      "SCL\n",
      "Hrsg\n",
      "Std\n"
     ]
    }
   ],
   "source": [
    "erg = regex.findall('\\\\b[qwrtzpsdfghjklyxcvbnmQWRTZPSDFGHJKLYXCVBNM]{3,}\\\\b', text_data)\n",
    "\n",
    "for element in erg:\n",
    "    print(element) "
   ]
  }
 ],
 "metadata": {
  "kernelspec": {
   "display_name": "Python 3.10.6 64-bit",
   "language": "python",
   "name": "python3"
  },
  "language_info": {
   "codemirror_mode": {
    "name": "ipython",
    "version": 3
   },
   "file_extension": ".py",
   "mimetype": "text/x-python",
   "name": "python",
   "nbconvert_exporter": "python",
   "pygments_lexer": "ipython3",
   "version": "3.10.6"
  },
  "orig_nbformat": 4,
  "vscode": {
   "interpreter": {
    "hash": "916dbcbb3f70747c44a77c7bcd40155683ae19c65e1c03b4aa3499c5328201f1"
   }
  }
 },
 "nbformat": 4,
 "nbformat_minor": 2
}
